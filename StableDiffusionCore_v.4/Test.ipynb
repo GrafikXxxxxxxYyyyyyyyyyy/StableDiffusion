{
 "cells": [
  {
   "cell_type": "markdown",
   "metadata": {},
   "source": [
    "### Test Conditioner"
   ]
  },
  {
   "cell_type": "code",
   "execution_count": 1,
   "metadata": {},
   "outputs": [
    {
     "name": "stdout",
     "output_type": "stream",
     "text": [
      "TextEncoder model has successfully loaded from 'GrafikXxxxxxxYyyyyyyyyyy/sdxl_Juggernaut' checkpoint!\n"
     ]
    }
   ],
   "source": [
    "import torch\n",
    "from models.conditioner_model import ConditionerModel\n",
    "from pipelines.conditioner_pipeline import ConditionerPipeline\n",
    "\n",
    "\n",
    "text_encoder = ConditionerModel(\n",
    "    model_path = \"GrafikXxxxxxxYyyyyyyyyyy/sdxl_Juggernaut\",\n",
    "    # TODO: Поправить ошибку с типом используемой модели\n",
    "    model_type=\"sdxl\",\n",
    "    device = 'cpu',\n",
    ")\n",
    "text_encoder.to('cpu', torch.float32)\n",
    "\n",
    "te_pipe = ConditionerPipeline()\n",
    "\n",
    "te_pipe_out = te_pipe(\n",
    "    text_encoder,\n",
    "    clip_skip=None,\n",
    "    lora_scale=None,\n",
    "    prompt=[\"A\", \"A\", \"A\"],\n",
    "    prompt_2=None,\n",
    ")"
   ]
  },
  {
   "cell_type": "code",
   "execution_count": 2,
   "metadata": {},
   "outputs": [
    {
     "data": {
      "text/plain": [
       "torch.Size([3, 77, 768])"
      ]
     },
     "execution_count": 2,
     "metadata": {},
     "output_type": "execute_result"
    }
   ],
   "source": [
    "te_pipe_out[\"prompt_embeds_1\"].shape\n",
    "# te_pipe_out[\"prompt_embeds_2\"].shape\n",
    "# te_pipe_out[\"pooled_prompt_embeds\"].shape"
   ]
  },
  {
   "cell_type": "markdown",
   "metadata": {},
   "source": [
    "### Test VAE"
   ]
  },
  {
   "cell_type": "code",
   "execution_count": 7,
   "metadata": {},
   "outputs": [],
   "source": [
    "# from models.models.vae_model import VaeModel\n",
    "# from pipelines.pipelines.vae_pipeline import VaePipeline\n",
    "\n",
    "# vae = VaeModel(\n",
    "#     model_path = \"GrafikXxxxxxxYyyyyyyyyyy/sdxl_Juggernaut\",\n",
    "#     # TODO: Поправить ошибку с типом используемой модели\n",
    "#     model_type=\"sdxl\",\n",
    "#     device = 'cpu',\n",
    "# )\n",
    "# vae.to('cpu', torch.float32)\n",
    "\n",
    "# vae_pipe = VaePipeline()\n",
    "# vae_out = vae_pipe(\n",
    "#     vae, \n",
    "    \n",
    "# )"
   ]
  },
  {
   "cell_type": "markdown",
   "metadata": {},
   "source": [
    "### Test DiffusionModel"
   ]
  },
  {
   "cell_type": "code",
   "execution_count": 1,
   "metadata": {},
   "outputs": [
    {
     "name": "stdout",
     "output_type": "stream",
     "text": [
      "Scheduler has successfully changed to 'euler'\n"
     ]
    },
    {
     "data": {
      "application/vnd.jupyter.widget-view+json": {
       "model_id": "66ba56dc069b4a619111edd8792fb6b8",
       "version_major": 2,
       "version_minor": 0
      },
      "text/plain": [
       "unet/config.json:   0%|          | 0.00/1.77k [00:00<?, ?B/s]"
      ]
     },
     "metadata": {},
     "output_type": "display_data"
    },
    {
     "data": {
      "application/vnd.jupyter.widget-view+json": {
       "model_id": "4c966c20809745868812ca6845a2b09d",
       "version_major": 2,
       "version_minor": 0
      },
      "text/plain": [
       "(…)diffusion_pytorch_model.fp16.safetensors:   0%|          | 0.00/5.14G [00:00<?, ?B/s]"
      ]
     },
     "metadata": {},
     "output_type": "display_data"
    },
    {
     "name": "stdout",
     "output_type": "stream",
     "text": [
      "Denoising model has successfully loaded from 'GrafikXxxxxxxYyyyyyyyyyy/sdxl_Juggernaut' checkpoint!\n"
     ]
    }
   ],
   "source": [
    "from models.models.diffusion_model import DiffusionModel\n",
    "\n",
    "diffusion = DiffusionModel(\n",
    "    model_path = \"GrafikXxxxxxxYyyyyyyyyyy/sdxl_Juggernaut\",\n",
    "    # TODO: Поправить ошибку с типом используемой модели\n",
    "    model_type=\"sdxl\",\n",
    "    device = 'cpu',\n",
    ")"
   ]
  },
  {
   "cell_type": "code",
   "execution_count": null,
   "metadata": {},
   "outputs": [],
   "source": []
  }
 ],
 "metadata": {
  "kernelspec": {
   "display_name": ".venv",
   "language": "python",
   "name": "python3"
  },
  "language_info": {
   "codemirror_mode": {
    "name": "ipython",
    "version": 3
   },
   "file_extension": ".py",
   "mimetype": "text/x-python",
   "name": "python",
   "nbconvert_exporter": "python",
   "pygments_lexer": "ipython3",
   "version": "3.11.2"
  }
 },
 "nbformat": 4,
 "nbformat_minor": 2
}
