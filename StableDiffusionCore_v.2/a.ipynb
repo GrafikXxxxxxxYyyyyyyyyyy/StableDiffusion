{
 "cells": [
  {
   "cell_type": "code",
   "execution_count": 13,
   "id": "f74d6f6b",
   "metadata": {},
   "outputs": [],
   "source": [
    "import torch\n",
    "from dataclasses import dataclass\n",
    "from diffusers.utils import BaseOutput\n",
    "from typing import Any, Callable, Dict, List, Optional, Union, Tuple\n",
    "from diffusers.image_processor import VaeImageProcessor, PipelineImageInput"
   ]
  },
  {
   "cell_type": "markdown",
   "id": "58c78f87",
   "metadata": {},
   "source": [
    "# InputTypes"
   ]
  },
  {
   "cell_type": "code",
   "execution_count": 14,
   "id": "d5e784e0",
   "metadata": {},
   "outputs": [],
   "source": [
    "class CustomInput:\n",
    "    pass"
   ]
  },
  {
   "cell_type": "markdown",
   "id": "d3a13292",
   "metadata": {},
   "source": [
    "### TextEncoder"
   ]
  },
  {
   "cell_type": "code",
   "execution_count": 15,
   "id": "8546a7b9",
   "metadata": {},
   "outputs": [],
   "source": [
    "@dataclass\n",
    "class StableDiffusionTextEncoderInput(BaseOutput):\n",
    "    prompt: Optional[Union[str, List[str]]] = None\n",
    "    prompt_2: Optional[Union[str, List[str]]] = None\n",
    "    lora_scale: Optional[float] = None\n",
    "    clip_skip: Optional[int] = None"
   ]
  },
  {
   "cell_type": "markdown",
   "id": "d193a258",
   "metadata": {},
   "source": [
    "### VAE"
   ]
  },
  {
   "cell_type": "code",
   "execution_count": 16,
   "id": "8b98f7cf",
   "metadata": {},
   "outputs": [],
   "source": [
    "@dataclass\n",
    "class StableDiffusionVAEInput(BaseOutput):\n",
    "    image: Optional[PipelineImageInput] = None\n",
    "    mask_image: Optional[PipelineImageInput] = None\n",
    "    height: Optional[int] = None\n",
    "    width: Optional[int] = None\n",
    "    generator: Optional[torch.Generator] = None"
   ]
  },
  {
   "cell_type": "markdown",
   "id": "8461c7ea",
   "metadata": {},
   "source": [
    "### Extractor"
   ]
  },
  {
   "cell_type": "code",
   "execution_count": 18,
   "id": "2bb019f8",
   "metadata": {},
   "outputs": [],
   "source": [
    "@dataclass\n",
    "class StableDiffusionExtractionPipelineInput(BaseOutput):\n",
    "    vae_input: Optional[StableDiffusionVAEInput] = None\n",
    "    text_encoder_input: Optional[StableDiffusionTextEncoderInput] = None\n",
    "    negative_prompt: Optional[Union[str, List[str]]] = None\n",
    "    negative_prompt_2: Optional[Union[str, List[str]]] = None"
   ]
  },
  {
   "cell_type": "markdown",
   "id": "9751ce9d",
   "metadata": {},
   "source": [
    "### Multitask"
   ]
  },
  {
   "cell_type": "code",
   "execution_count": null,
   "id": "3cc3b9b8",
   "metadata": {},
   "outputs": [],
   "source": [
    "@dataclass\n",
    "class StableDiffusionMultitaskPipelineInput(BaseOutput):\n",
    "    strength: float = 1.0\n",
    "    output_type: str = \"pt\"\n",
    "    guidance_scale: float = 5.0\n",
    "    num_inference_steps: int = 30\n",
    "    num_images_per_prompt: int = 1\n",
    "    return_extractor_out: bool = False\n",
    "    denoising_end: Optional[float] = None\n",
    "    denoising_start: Optional[float] = None\n",
    "    vae_input: Optional[StableDiffusionVAEInput] = None\n",
    "    negative_prompt: Optional[Union[str, List[str]]] = None\n",
    "    negative_prompt_2: Optional[Union[str, List[str]]] = None\n",
    "    text_encoder_input: Optional[StableDiffusionTextEncoderInput] = None\n",
    "    prev_output: Optional[StableDiffusionMultitaskPipelineOutput] = None"
   ]
  },
  {
   "cell_type": "code",
   "execution_count": null,
   "id": "2cb99669",
   "metadata": {},
   "outputs": [],
   "source": []
  },
  {
   "cell_type": "code",
   "execution_count": null,
   "id": "f0860f83",
   "metadata": {},
   "outputs": [],
   "source": []
  },
  {
   "cell_type": "code",
   "execution_count": null,
   "id": "8d314cbb",
   "metadata": {},
   "outputs": [],
   "source": []
  },
  {
   "cell_type": "code",
   "execution_count": null,
   "id": "9f35cf1d",
   "metadata": {},
   "outputs": [],
   "source": []
  },
  {
   "cell_type": "code",
   "execution_count": null,
   "id": "5572cb53",
   "metadata": {},
   "outputs": [],
   "source": []
  },
  {
   "cell_type": "code",
   "execution_count": null,
   "id": "c8cb2dd6",
   "metadata": {},
   "outputs": [],
   "source": []
  },
  {
   "cell_type": "code",
   "execution_count": null,
   "id": "7bd50703",
   "metadata": {},
   "outputs": [],
   "source": []
  }
 ],
 "metadata": {
  "kernelspec": {
   "display_name": "TradingDiff",
   "language": "python",
   "name": ".venv"
  },
  "language_info": {
   "codemirror_mode": {
    "name": "ipython",
    "version": 3
   },
   "file_extension": ".py",
   "mimetype": "text/x-python",
   "name": "python",
   "nbconvert_exporter": "python",
   "pygments_lexer": "ipython3",
   "version": "3.11.2"
  }
 },
 "nbformat": 4,
 "nbformat_minor": 5
}
