{
 "cells": [
  {
   "cell_type": "code",
   "execution_count": 1,
   "metadata": {},
   "outputs": [
    {
     "name": "stdout",
     "output_type": "stream",
     "text": [
      "TextEncoder model has successfully loaded from 'GrafikXxxxxxxYyyyyyyyyyy/sdxl_Juggernaut' checkpoint!\n"
     ]
    }
   ],
   "source": [
    "from models.models.models.text_encoder_model import TextEncoderModel\n",
    "\n",
    "TE = TextEncoderModel(\n",
    "    model_path=\"GrafikXxxxxxxYyyyyyyyyyy/sdxl_Juggernaut\",\n",
    "    model_type=\"sdxl\",\n",
    "    device=\"mps\",\n",
    ")"
   ]
  },
  {
   "cell_type": "code",
   "execution_count": 2,
   "metadata": {},
   "outputs": [],
   "source": [
    "from pipelines.pipelines.pipelines.text_encoder_pipeline import TextEncoderPipeline, TextEncoderPipelineInput, TextEncoderPipelineOutput\n",
    "\n",
    "pipeline = TextEncoderPipeline()"
   ]
  },
  {
   "cell_type": "code",
   "execution_count": 3,
   "metadata": {},
   "outputs": [],
   "source": [
    "te_input = TextEncoderPipelineInput(\n",
    "    clip_skip=2,\n",
    "    prompt=['girl', 'boy'],\n",
    "    prompt_2=[\"cat\", \"dog\"],\n",
    ")"
   ]
  },
  {
   "cell_type": "code",
   "execution_count": 4,
   "metadata": {},
   "outputs": [],
   "source": [
    "output = pipeline(\n",
    "    TE,\n",
    "    **te_input,\n",
    ")"
   ]
  },
  {
   "cell_type": "code",
   "execution_count": 6,
   "metadata": {},
   "outputs": [
    {
     "data": {
      "text/plain": [
       "(torch.Size([2, 77, 2048]), torch.Size([2, 1280]))"
      ]
     },
     "execution_count": 6,
     "metadata": {},
     "output_type": "execute_result"
    }
   ],
   "source": [
    "prompt_embeds, pooled_prompt_embeds = output(\n",
    "    model_type=\"sdxl\",\n",
    "    use_refiner=False,\n",
    "    num_images_per_prompt=1,\n",
    ")\n",
    "\n",
    "prompt_embeds.shape, pooled_prompt_embeds.shape"
   ]
  },
  {
   "cell_type": "code",
   "execution_count": 9,
   "metadata": {},
   "outputs": [
    {
     "data": {
      "text/plain": [
       "(torch.Size([20, 77, 1280]), torch.Size([20, 1280]))"
      ]
     },
     "execution_count": 9,
     "metadata": {},
     "output_type": "execute_result"
    }
   ],
   "source": [
    "prompt_embeds, pooled_prompt_embeds = output(\n",
    "    model_type=\"sdxl\",\n",
    "    use_refiner=True,\n",
    "    num_images_per_prompt=10,\n",
    ")\n",
    "\n",
    "prompt_embeds.shape, pooled_prompt_embeds.shape"
   ]
  },
  {
   "cell_type": "code",
   "execution_count": 15,
   "metadata": {},
   "outputs": [
    {
     "data": {
      "text/plain": [
       "torch.Size([2, 77, 768])"
      ]
     },
     "execution_count": 15,
     "metadata": {},
     "output_type": "execute_result"
    }
   ],
   "source": [
    "prompt_embeds, pooled_prompt_embeds = output(\n",
    "    model_type=\"sd15\",\n",
    "    use_refiner=False,\n",
    "    num_images_per_prompt=1,\n",
    ")\n",
    "\n",
    "assert pooled_prompt_embeds == None, \"А должен быть None!\"\n",
    "prompt_embeds.shape"
   ]
  },
  {
   "cell_type": "code",
   "execution_count": null,
   "metadata": {},
   "outputs": [],
   "source": []
  }
 ],
 "metadata": {
  "kernelspec": {
   "display_name": ".venv",
   "language": "python",
   "name": "python3"
  },
  "language_info": {
   "codemirror_mode": {
    "name": "ipython",
    "version": 3
   },
   "file_extension": ".py",
   "mimetype": "text/x-python",
   "name": "python",
   "nbconvert_exporter": "python",
   "pygments_lexer": "ipython3",
   "version": "3.11.2"
  }
 },
 "nbformat": 4,
 "nbformat_minor": 2
}
