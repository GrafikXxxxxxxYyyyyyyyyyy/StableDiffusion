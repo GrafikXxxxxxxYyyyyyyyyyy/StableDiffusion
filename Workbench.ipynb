{
 "cells": [
  {
   "cell_type": "markdown",
   "metadata": {},
   "source": [
    "### Conver original A1111 .ckpt to diffusers style"
   ]
  },
  {
   "cell_type": "code",
   "execution_count": null,
   "metadata": {},
   "outputs": [],
   "source": [
    "# %run scripts/convert_from_A1111.py                       \\\n",
    "#     --checkpoint_path=\"./dreamshaper.safetensors\"          \\\n",
    "#     --from_safetensors                                 \\\n",
    "#     --save_path=\"models/checkpoints/DreamShaper\""
   ]
  },
  {
   "cell_type": "markdown",
   "metadata": {},
   "source": [
    "### Train diffusion model (--use_lora_weights / --train_text_encoder / --mixed_precision='fp16')"
   ]
  },
  {
   "cell_type": "code",
   "execution_count": null,
   "metadata": {},
   "outputs": [],
   "source": [
    "# %run pipeline/text2image_sd.py \\\n",
    "#     --image_size=512           \\\n",
    "#     --rank=16                  \\\n",
    "#     --use_lora_weights         \\\n",
    "#     --train_text_encoder       \\\n",
    "#     --mixed_precision='fp16'   \\\n",
    "#     --learning_rate=1e-5       \\\n",
    "#     --adam_beta1=0.9           \\\n",
    "#     --adam_beta2=0.999         \\\n",
    "#     --adam_weight_decay=1e-2   \\\n",
    "#     --adam_epsilon=1e-08"
   ]
  },
  {
   "cell_type": "markdown",
   "metadata": {},
   "source": [
    "# Workspace"
   ]
  },
  {
   "cell_type": "markdown",
   "metadata": {},
   "source": [
    "### Local debugging"
   ]
  },
  {
   "cell_type": "code",
   "execution_count": null,
   "metadata": {},
   "outputs": [],
   "source": [
    "# !chmod +x runpod-worker/start.sh\n",
    "# !runpod-worker/start.sh "
   ]
  },
  {
   "cell_type": "markdown",
   "metadata": {},
   "source": [
    "### Save SDXL"
   ]
  },
  {
   "cell_type": "code",
   "execution_count": null,
   "metadata": {},
   "outputs": [],
   "source": [
    "# from diffusers import AutoencoderKL\n",
    "\n",
    "# VAE = AutoencoderKL.from_single_file(\"./sdxl_vae.safetensors\")\n",
    "# VAE"
   ]
  },
  {
   "cell_type": "code",
   "execution_count": null,
   "metadata": {},
   "outputs": [],
   "source": [
    "# import torch\n",
    "# from diffusers import StableDiffusionXLPipeline\n",
    "\n",
    "# def save_sdxl_model (ckpt_path, model_name, vae=None):\n",
    "#     pipeXL = StableDiffusionXLPipeline.from_single_file(ckpt_path, use_safetensors=True)\n",
    "\n",
    "#     path = f\"./models/checkpoints/{model_name}\"\n",
    "    \n",
    "#     if vae is not None:\n",
    "#         pipeXL.vae = vae\n",
    "        \n",
    "#     pipeXL = pipeXL.to(dtype=torch.float16)\n",
    "#     pipeXL.save_pretrained(\n",
    "#         path, \n",
    "#         torch_dtype=torch.float16, \n",
    "#         variant='fp16',\n",
    "#     )\n",
    "\n",
    "# save_sdxl_model(\"./PhotorealisticMix.safetensors\", \"PhotorealisticMix\", VAE)"
   ]
  },
  {
   "cell_type": "markdown",
   "metadata": {},
   "source": [
    "### StableDiffusionUI"
   ]
  },
  {
   "cell_type": "code",
   "execution_count": 5,
   "metadata": {},
   "outputs": [],
   "source": [
    "%run web-app/app.py"
   ]
  },
  {
   "cell_type": "code",
   "execution_count": 38,
   "metadata": {},
   "outputs": [],
   "source": [
    "# Ошибка, которую вы видите, связана с тем, что объект mask имеет значение None, \n",
    "# и при попытке вызвать метод chunk на этом объекте возникает ошибка AttributeError.\n",
    "# TODO: Поправить пайплайн для инпеинтинга в модели!!!"
   ]
  },
  {
   "cell_type": "code",
   "execution_count": null,
   "metadata": {},
   "outputs": [],
   "source": []
  },
  {
   "cell_type": "code",
   "execution_count": 4,
   "metadata": {},
   "outputs": [],
   "source": [
    "# !chmod +x runpod-worker/start.sh\n",
    "# !runpod-worker/start.sh "
   ]
  },
  {
   "cell_type": "code",
   "execution_count": null,
   "metadata": {},
   "outputs": [],
   "source": []
  },
  {
   "cell_type": "code",
   "execution_count": 28,
   "metadata": {},
   "outputs": [],
   "source": [
    "# import json\n",
    "# from huggingface_hub import HfFileSystem, hf_hub_download\n",
    "\n",
    "# def _get_avaliable_loras(hf_path: str = \"GrafikXxxxxxxYyyyyyyyyyy/loras\"):\n",
    "#     fs = HfFileSystem()\n",
    "#     avaliable_loras = {\n",
    "#         \"sd15\": [],\n",
    "#         \"sdxl\": [], \n",
    "#         \"sd3\": [],\n",
    "#     }\n",
    "#     files = fs.ls(hf_path, detail=False)\n",
    "\n",
    "#     for file in files:\n",
    "#         if file.endswith(\".safetensors\"):\n",
    "#             if file.startswith(f\"{hf_path}/sd15_\"):\n",
    "#                 avaliable_loras[\"sd15\"].append(file[len(f\"{hf_path}/sd15_\"): -len(\".safetensors\")])\n",
    "#             elif file.startswith(f\"{hf_path}/sdxl_\"):\n",
    "#                 avaliable_loras[\"sdxl\"].append(file[len(f\"{hf_path}/sdxl_\"): -len(\".safetensors\")])\n",
    "#             elif file.startswith(f\"{hf_path}/sd3_\"):\n",
    "#                 avaliable_loras[\"sd3\"].append(file[len(f\"{hf_path}/sd3_\"): -len(\".safetensors\")])\n",
    "               \n",
    "\n",
    "#     print(avaliable_loras)"
   ]
  },
  {
   "cell_type": "code",
   "execution_count": 27,
   "metadata": {},
   "outputs": [],
   "source": [
    "# # _get_avaliable_loras()\n",
    "# from huggingface_hub import HfApi\n",
    "\n",
    "# author=\"GrafikXxxxxxxYyyyyyyyyyy\"\n",
    "\n",
    "# api = HfApi()\n",
    "# models = api.list_models(author=author)\n",
    "\n",
    "# for m in models:\n",
    "#     ckpt_path = m.id\n",
    "#     print(ckpt_path)\n",
    "\n",
    "#     if ckpt_path.startswith(f\"{author}/sd15_\"):\n",
    "#         print(ckpt_path[len(f\"{author}/sd15_\"):])\n",
    "\n",
    "#     break"
   ]
  },
  {
   "cell_type": "code",
   "execution_count": 28,
   "metadata": {},
   "outputs": [],
   "source": [
    "# %run models/stable_diffusion.py\n",
    "\n",
    "# model = SDModelWrapper(model_name=\"Juggernaut\", model_type=\"sdxl\", device=\"cpu\")"
   ]
  },
  {
   "cell_type": "code",
   "execution_count": 27,
   "metadata": {},
   "outputs": [],
   "source": [
    "# %run pipelines/sd_unified_pipeline.py\n",
    "\n",
    "# pipe = StableDiffusionUnifiedPipeline(device=\"cpu\")"
   ]
  },
  {
   "cell_type": "code",
   "execution_count": 26,
   "metadata": {},
   "outputs": [],
   "source": [
    "# import json\n",
    "\n",
    "# with open('test_input.json', 'r') as file:\n",
    "#     job_input = json.load(file)\n",
    "#     job_input = job_input.pop(\"input\")\n",
    "\n",
    "\n",
    "# pipe(\n",
    "#     model,  \n",
    "#     prompt=job_input['prompt'],\n",
    "#     negative_prompt=job_input['negative_prompt'],\n",
    "#     **job_input['params']\n",
    "# )"
   ]
  },
  {
   "cell_type": "code",
   "execution_count": null,
   "metadata": {},
   "outputs": [],
   "source": []
  }
 ],
 "metadata": {
  "kernelspec": {
   "display_name": ".venv",
   "language": "python",
   "name": "python3"
  },
  "language_info": {
   "codemirror_mode": {
    "name": "ipython",
    "version": 3
   },
   "file_extension": ".py",
   "mimetype": "text/x-python",
   "name": "python",
   "nbconvert_exporter": "python",
   "pygments_lexer": "ipython3",
   "version": "3.11.2"
  }
 },
 "nbformat": 4,
 "nbformat_minor": 2
}
