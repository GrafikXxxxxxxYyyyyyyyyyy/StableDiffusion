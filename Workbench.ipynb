{
 "cells": [
  {
   "cell_type": "markdown",
   "metadata": {},
   "source": [
    "### Conver original A1111 .ckpt to diffusers style"
   ]
  },
  {
   "cell_type": "code",
   "execution_count": null,
   "metadata": {},
   "outputs": [],
   "source": [
    "# %run scripts/convert_from_A1111.py                       \\\n",
    "#     --checkpoint_path=\"./dreamshaper.safetensors\"          \\\n",
    "#     --from_safetensors                                 \\\n",
    "#     --save_path=\"models/checkpoints/DreamShaper\""
   ]
  },
  {
   "cell_type": "markdown",
   "metadata": {},
   "source": [
    "### Train diffusion model (--use_lora_weights / --train_text_encoder / --mixed_precision='fp16')"
   ]
  },
  {
   "cell_type": "code",
   "execution_count": null,
   "metadata": {},
   "outputs": [],
   "source": [
    "# %run pipeline/text2image_sd.py \\\n",
    "#     --image_size=512           \\\n",
    "#     --rank=16                  \\\n",
    "#     --use_lora_weights         \\\n",
    "#     --train_text_encoder       \\\n",
    "#     --mixed_precision='fp16'   \\\n",
    "#     --learning_rate=1e-5       \\\n",
    "#     --adam_beta1=0.9           \\\n",
    "#     --adam_beta2=0.999         \\\n",
    "#     --adam_weight_decay=1e-2   \\\n",
    "#     --adam_epsilon=1e-08"
   ]
  },
  {
   "cell_type": "markdown",
   "metadata": {},
   "source": [
    "# Workspace"
   ]
  },
  {
   "cell_type": "markdown",
   "metadata": {},
   "source": [
    "### Local debugging"
   ]
  },
  {
   "cell_type": "code",
   "execution_count": 5,
   "metadata": {},
   "outputs": [],
   "source": [
    "# !chmod +x runpod-worker/start.sh\n",
    "# !runpod-worker/start.sh "
   ]
  },
  {
   "cell_type": "markdown",
   "metadata": {},
   "source": [
    "### Save SDXL"
   ]
  },
  {
   "cell_type": "code",
   "execution_count": null,
   "metadata": {},
   "outputs": [],
   "source": [
    "# from diffusers import AutoencoderKL\n",
    "\n",
    "# VAE = AutoencoderKL.from_single_file(\"./sdxl_vae.safetensors\")\n",
    "# VAE"
   ]
  },
  {
   "cell_type": "code",
   "execution_count": null,
   "metadata": {},
   "outputs": [],
   "source": [
    "# import torch\n",
    "# from diffusers import StableDiffusionXLPipeline\n",
    "\n",
    "# def save_sdxl_model (ckpt_path, model_name, vae=None):\n",
    "#     pipeXL = StableDiffusionXLPipeline.from_single_file(ckpt_path, use_safetensors=True)\n",
    "\n",
    "#     path = f\"./models/checkpoints/{model_name}\"\n",
    "    \n",
    "#     if vae is not None:\n",
    "#         pipeXL.vae = vae\n",
    "        \n",
    "#     pipeXL = pipeXL.to(dtype=torch.float16)\n",
    "#     pipeXL.save_pretrained(\n",
    "#         path, \n",
    "#         torch_dtype=torch.float16, \n",
    "#         variant='fp16',\n",
    "#     )\n",
    "\n",
    "# save_sdxl_model(\"./PhotorealisticMix.safetensors\", \"PhotorealisticMix\", VAE)"
   ]
  },
  {
   "cell_type": "markdown",
   "metadata": {},
   "source": [
    "### StableDiffusionUI"
   ]
  },
  {
   "cell_type": "code",
   "execution_count": 5,
   "metadata": {},
   "outputs": [],
   "source": [
    "# %run WebUI/app.py"
   ]
  },
  {
   "cell_type": "code",
   "execution_count": null,
   "metadata": {},
   "outputs": [],
   "source": []
  },
  {
   "cell_type": "code",
   "execution_count": null,
   "metadata": {},
   "outputs": [],
   "source": []
  },
  {
   "cell_type": "markdown",
   "metadata": {},
   "source": [
    "### Refiner test"
   ]
  },
  {
   "cell_type": "code",
   "execution_count": null,
   "metadata": {},
   "outputs": [],
   "source": [
    "request = {\n",
    "    \n",
    "}"
   ]
  },
  {
   "cell_type": "code",
   "execution_count": null,
   "metadata": {},
   "outputs": [],
   "source": []
  },
  {
   "cell_type": "code",
   "execution_count": null,
   "metadata": {},
   "outputs": [],
   "source": []
  },
  {
   "cell_type": "code",
   "execution_count": null,
   "metadata": {},
   "outputs": [],
   "source": []
  },
  {
   "cell_type": "markdown",
   "metadata": {},
   "source": [
    "### FaceDetailer test"
   ]
  },
  {
   "cell_type": "code",
   "execution_count": 4,
   "metadata": {},
   "outputs": [],
   "source": [
    "# %run web-app/detailer_app.py"
   ]
  },
  {
   "cell_type": "code",
   "execution_count": null,
   "metadata": {},
   "outputs": [],
   "source": []
  },
  {
   "cell_type": "code",
   "execution_count": null,
   "metadata": {},
   "outputs": [],
   "source": []
  },
  {
   "cell_type": "code",
   "execution_count": null,
   "metadata": {},
   "outputs": [],
   "source": []
  },
  {
   "cell_type": "markdown",
   "metadata": {},
   "source": [
    "### New pipeline test"
   ]
  },
  {
   "cell_type": "code",
   "execution_count": 2,
   "metadata": {},
   "outputs": [],
   "source": [
    "%run StableDiffusion/sd_unified_model.py\n",
    "\n",
    "model = StableDiffusionUnifiedModel(model_type=\"sdxl\", model_name=\"Juggernaut\", device=\"cpu\")"
   ]
  },
  {
   "cell_type": "code",
   "execution_count": 3,
   "metadata": {},
   "outputs": [],
   "source": [
    "%run StableDiffusion/sd_unified_pipeline.py\n",
    "\n",
    "pipe = StableDiffusionUnifiedPipeline(device=\"cpu\")"
   ]
  },
  {
   "cell_type": "code",
   "execution_count": 4,
   "metadata": {},
   "outputs": [],
   "source": [
    "# images = pipe(\n",
    "#     model, \n",
    "#     prompt=[\n",
    "#         \"A girl\",\n",
    "#     ]\n",
    "# )"
   ]
  },
  {
   "cell_type": "code",
   "execution_count": null,
   "metadata": {},
   "outputs": [],
   "source": []
  },
  {
   "cell_type": "code",
   "execution_count": 2,
   "metadata": {},
   "outputs": [],
   "source": [
    "# %run WebUI/app.py"
   ]
  },
  {
   "cell_type": "code",
   "execution_count": 20,
   "metadata": {},
   "outputs": [
    {
     "data": {
      "text/plain": [
       "5"
      ]
     },
     "execution_count": 20,
     "metadata": {},
     "output_type": "execute_result"
    }
   ],
   "source": []
  },
  {
   "cell_type": "code",
   "execution_count": null,
   "metadata": {},
   "outputs": [],
   "source": []
  },
  {
   "cell_type": "code",
   "execution_count": null,
   "metadata": {},
   "outputs": [],
   "source": []
  }
 ],
 "metadata": {
  "kernelspec": {
   "display_name": ".venv",
   "language": "python",
   "name": "python3"
  },
  "language_info": {
   "codemirror_mode": {
    "name": "ipython",
    "version": 3
   },
   "file_extension": ".py",
   "mimetype": "text/x-python",
   "name": "python",
   "nbconvert_exporter": "python",
   "pygments_lexer": "ipython3",
   "version": "3.11.2"
  }
 },
 "nbformat": 4,
 "nbformat_minor": 2
}
