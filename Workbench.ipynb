{
 "cells": [
  {
   "cell_type": "markdown",
   "metadata": {},
   "source": [
    "### Conver original A1111 .ckpt to diffusers style"
   ]
  },
  {
   "cell_type": "code",
   "execution_count": null,
   "metadata": {},
   "outputs": [],
   "source": [
    "# %run scripts/convert_from_A1111.py                       \\\n",
    "#     --checkpoint_path=\"./dreamshaper.safetensors\"          \\\n",
    "#     --from_safetensors                                 \\\n",
    "#     --save_path=\"models/checkpoints/DreamShaper\""
   ]
  },
  {
   "cell_type": "markdown",
   "metadata": {},
   "source": [
    "### Train diffusion model (--use_lora_weights / --train_text_encoder / --mixed_precision='fp16')"
   ]
  },
  {
   "cell_type": "code",
   "execution_count": null,
   "metadata": {},
   "outputs": [],
   "source": [
    "# %run pipeline/text2image_sd.py \\\n",
    "#     --image_size=512           \\\n",
    "#     --rank=16                  \\\n",
    "#     --use_lora_weights         \\\n",
    "#     --train_text_encoder       \\\n",
    "#     --mixed_precision='fp16'   \\\n",
    "#     --learning_rate=1e-5       \\\n",
    "#     --adam_beta1=0.9           \\\n",
    "#     --adam_beta2=0.999         \\\n",
    "#     --adam_weight_decay=1e-2   \\\n",
    "#     --adam_epsilon=1e-08"
   ]
  },
  {
   "cell_type": "markdown",
   "metadata": {},
   "source": [
    "# Workspace"
   ]
  },
  {
   "cell_type": "markdown",
   "metadata": {},
   "source": [
    "### Local debugging"
   ]
  },
  {
   "cell_type": "code",
   "execution_count": 5,
   "metadata": {},
   "outputs": [],
   "source": [
    "# !chmod +x runpod-worker/start.sh\n",
    "# !runpod-worker/start.sh "
   ]
  },
  {
   "cell_type": "markdown",
   "metadata": {},
   "source": [
    "### Save SDXL"
   ]
  },
  {
   "cell_type": "code",
   "execution_count": null,
   "metadata": {},
   "outputs": [],
   "source": [
    "# from diffusers import AutoencoderKL\n",
    "\n",
    "# VAE = AutoencoderKL.from_single_file(\"./sdxl_vae.safetensors\")\n",
    "# VAE"
   ]
  },
  {
   "cell_type": "code",
   "execution_count": null,
   "metadata": {},
   "outputs": [],
   "source": [
    "# import torch\n",
    "# from diffusers import StableDiffusionXLPipeline\n",
    "\n",
    "# def save_sdxl_model (ckpt_path, model_name, vae=None):\n",
    "#     pipeXL = StableDiffusionXLPipeline.from_single_file(ckpt_path, use_safetensors=True)\n",
    "\n",
    "#     path = f\"./models/checkpoints/{model_name}\"\n",
    "    \n",
    "#     if vae is not None:\n",
    "#         pipeXL.vae = vae\n",
    "        \n",
    "#     pipeXL = pipeXL.to(dtype=torch.float16)\n",
    "#     pipeXL.save_pretrained(\n",
    "#         path, \n",
    "#         torch_dtype=torch.float16, \n",
    "#         variant='fp16',\n",
    "#     )\n",
    "\n",
    "# save_sdxl_model(\"./PhotorealisticMix.safetensors\", \"PhotorealisticMix\", VAE)"
   ]
  },
  {
   "cell_type": "markdown",
   "metadata": {},
   "source": [
    "### StableDiffusionUI"
   ]
  },
  {
   "cell_type": "code",
   "execution_count": 5,
   "metadata": {},
   "outputs": [],
   "source": [
    "# %run WebUI/app.py"
   ]
  },
  {
   "cell_type": "code",
   "execution_count": null,
   "metadata": {},
   "outputs": [],
   "source": []
  },
  {
   "cell_type": "code",
   "execution_count": null,
   "metadata": {},
   "outputs": [],
   "source": []
  },
  {
   "cell_type": "markdown",
   "metadata": {},
   "source": [
    "### Refiner test"
   ]
  },
  {
   "cell_type": "code",
   "execution_count": null,
   "metadata": {},
   "outputs": [],
   "source": [
    "request = {\n",
    "    \n",
    "}"
   ]
  },
  {
   "cell_type": "code",
   "execution_count": 20,
   "metadata": {},
   "outputs": [],
   "source": [
    "# %run StableDiffusionCore/models/sd_scheduler.py\n",
    "\n",
    "# scheduler = StableDiffusionSchedulerModel(\"GrafikXxxxxxxYyyyyyyyyyy/sdxl_Juggernaut\")"
   ]
  },
  {
   "cell_type": "code",
   "execution_count": null,
   "metadata": {},
   "outputs": [],
   "source": []
  },
  {
   "cell_type": "code",
   "execution_count": 37,
   "metadata": {},
   "outputs": [],
   "source": [
    "def foo (image, mask_image):\n",
    "    if image is not None and mask_image is not None: \n",
    "        print(\"inpaint\")\n",
    "    elif image is not None: \n",
    "        print(\"img2img\")\n",
    "    \n",
    "    print(\"scip...\")"
   ]
  },
  {
   "cell_type": "code",
   "execution_count": 41,
   "metadata": {},
   "outputs": [
    {
     "name": "stdout",
     "output_type": "stream",
     "text": [
      "inpaint\n",
      "scip...\n"
     ]
    }
   ],
   "source": [
    "foo(1, 2)"
   ]
  },
  {
   "cell_type": "code",
   "execution_count": null,
   "metadata": {},
   "outputs": [],
   "source": []
  },
  {
   "cell_type": "markdown",
   "metadata": {},
   "source": [
    "### FaceDetailer test"
   ]
  },
  {
   "cell_type": "code",
   "execution_count": 4,
   "metadata": {},
   "outputs": [],
   "source": [
    "# %run web-app/detailer_app.py"
   ]
  },
  {
   "cell_type": "code",
   "execution_count": null,
   "metadata": {},
   "outputs": [],
   "source": []
  },
  {
   "cell_type": "code",
   "execution_count": null,
   "metadata": {},
   "outputs": [],
   "source": []
  },
  {
   "cell_type": "code",
   "execution_count": null,
   "metadata": {},
   "outputs": [],
   "source": []
  },
  {
   "cell_type": "markdown",
   "metadata": {},
   "source": [
    "# New pipeline test"
   ]
  },
  {
   "cell_type": "code",
   "execution_count": 3,
   "metadata": {},
   "outputs": [],
   "source": [
    "# %run StableDiffusionCore_v.4/stable_diffusion_pipeline.py"
   ]
  },
  {
   "cell_type": "markdown",
   "metadata": {},
   "source": [
    "### Conditioner (добавить IP-Adapter)"
   ]
  },
  {
   "cell_type": "code",
   "execution_count": 3,
   "metadata": {},
   "outputs": [
    {
     "name": "stdout",
     "output_type": "stream",
     "text": [
      "TextEncoder model has successfully loaded from 'GrafikXxxxxxxYyyyyyyyyyy/sdxl_Juggernaut' checkpoint!\n"
     ]
    }
   ],
   "source": [
    "%run models/conditioner_model.py\n",
    "\n",
    "text_encoder = ConditionerModel(\n",
    "    model_path = \"GrafikXxxxxxxYyyyyyyyyyy/sdxl_Juggernaut\",\n",
    "    device = 'cpu'\n",
    ")"
   ]
  },
  {
   "cell_type": "code",
   "execution_count": 9,
   "metadata": {},
   "outputs": [
    {
     "ename": "ImportError",
     "evalue": "attempted relative import with no known parent package",
     "output_type": "error",
     "traceback": [
      "\u001b[0;31m---------------------------------------------------------------------------\u001b[0m",
      "\u001b[0;31mImportError\u001b[0m                               Traceback (most recent call last)",
      "File \u001b[0;32m~/dev/Git/MemoryPaint/StableDiffusionCore_v.4/pipelines/conditioner_pipeline.py:6\u001b[0m\n\u001b[1;32m      3\u001b[0m \u001b[38;5;28;01mfrom\u001b[39;00m \u001b[38;5;21;01mtyping\u001b[39;00m \u001b[38;5;28;01mimport\u001b[39;00m Any, Callable, Dict, List, Optional, Union, Tuple\n\u001b[1;32m      4\u001b[0m \u001b[38;5;28;01mfrom\u001b[39;00m \u001b[38;5;21;01mdiffusers\u001b[39;00m\u001b[38;5;21;01m.\u001b[39;00m\u001b[38;5;21;01mutils\u001b[39;00m\u001b[38;5;21;01m.\u001b[39;00m\u001b[38;5;21;01mpeft_utils\u001b[39;00m \u001b[38;5;28;01mimport\u001b[39;00m scale_lora_layers, unscale_lora_layers\n\u001b[0;32m----> 6\u001b[0m \u001b[38;5;28;01mfrom\u001b[39;00m \u001b[38;5;21;01m.\u001b[39;00m\u001b[38;5;21;01m.\u001b[39;00m\u001b[38;5;21;01mmodels\u001b[39;00m\u001b[38;5;21;01m.\u001b[39;00m\u001b[38;5;21;01mconditioner_model\u001b[39;00m \u001b[38;5;28;01mimport\u001b[39;00m ConditionerModel\n\u001b[1;32m     10\u001b[0m \u001b[38;5;28;01mclass\u001b[39;00m \u001b[38;5;21;01mConditionerPipelineInput\u001b[39;00m(BaseOutput):\n\u001b[1;32m     11\u001b[0m     clip_skip: Optional[\u001b[38;5;28mint\u001b[39m] \u001b[38;5;241m=\u001b[39m \u001b[38;5;28;01mNone\u001b[39;00m\n",
      "\u001b[0;31mImportError\u001b[0m: attempted relative import with no known parent package"
     ]
    }
   ],
   "source": [
    "%run StableDiffusionCore_v.4/pipelines/conditioner_pipeline.py\n",
    "\n",
    "# te_pipe = ConditionerPipeline()"
   ]
  },
  {
   "cell_type": "code",
   "execution_count": null,
   "metadata": {},
   "outputs": [],
   "source": []
  },
  {
   "cell_type": "code",
   "execution_count": null,
   "metadata": {},
   "outputs": [],
   "source": []
  },
  {
   "cell_type": "code",
   "execution_count": null,
   "metadata": {},
   "outputs": [],
   "source": []
  },
  {
   "cell_type": "code",
   "execution_count": 1,
   "metadata": {},
   "outputs": [],
   "source": [
    "# %run StableDiffusion/sd_unified_model.py\n",
    "\n",
    "# model = StableDiffusionUnifiedModel(model_type=\"sdxl\", model_name=\"Juggernaut\", device=\"cpu\")"
   ]
  },
  {
   "cell_type": "code",
   "execution_count": 2,
   "metadata": {},
   "outputs": [],
   "source": [
    "# %run StableDiffusion/sd_unified_pipeline.py\n",
    "\n",
    "# pipe = StableDiffusionUnifiedPipeline(device=\"cpu\")"
   ]
  },
  {
   "cell_type": "code",
   "execution_count": 4,
   "metadata": {},
   "outputs": [],
   "source": [
    "# images = pipe(\n",
    "#     model, \n",
    "#     prompt=[\n",
    "#         \"A girl\",\n",
    "#     ]\n",
    "# )"
   ]
  },
  {
   "cell_type": "code",
   "execution_count": null,
   "metadata": {},
   "outputs": [],
   "source": []
  },
  {
   "cell_type": "code",
   "execution_count": 2,
   "metadata": {},
   "outputs": [],
   "source": [
    "# %run WebUI/app.py"
   ]
  },
  {
   "cell_type": "code",
   "execution_count": 20,
   "metadata": {},
   "outputs": [
    {
     "data": {
      "text/plain": [
       "5"
      ]
     },
     "execution_count": 20,
     "metadata": {},
     "output_type": "execute_result"
    }
   ],
   "source": []
  },
  {
   "cell_type": "code",
   "execution_count": null,
   "metadata": {},
   "outputs": [],
   "source": []
  },
  {
   "cell_type": "code",
   "execution_count": 6,
   "metadata": {},
   "outputs": [
    {
     "name": "stdout",
     "output_type": "stream",
     "text": [
      "1 1.0 one\n"
     ]
    }
   ],
   "source": [
    "# from dataclasses import dataclass, fields\n",
    "# from diffusers.utils import BaseOutput\n",
    "# from typing import Any, Callable, Dict, List, Optional, Union, Tuple\n",
    "\n",
    "# @dataclass\n",
    "# class Dataclass(BaseOutput):\n",
    "#     a: int\n",
    "#     b: float = None\n",
    "#     c: Optional[str] = None\n",
    "    \n",
    "#     # Хуйня чтобы работала передача по типу func(**self)\n",
    "    # def __post_init__(self) -> None:\n",
    "    #     class_fields = fields(self)\n",
    "\n",
    "    #     # Safety and consistency checks\n",
    "    #     if not len(class_fields):\n",
    "    #         raise ValueError(f\"{self.__class__.__name__} has no fields.\")\n",
    "\n",
    "    #     first_field = getattr(self, class_fields[0].name)\n",
    "    #     other_fields_are_none = all(getattr(self, field.name) is None for field in class_fields[1:])\n",
    "\n",
    "    #     if other_fields_are_none and isinstance(first_field, dict):\n",
    "    #         for key, value in first_field.items():\n",
    "    #             self[key] = value\n",
    "    #     else:\n",
    "    #         for field in class_fields:\n",
    "    #             v = getattr(self, field.name)\n",
    "    #             if v is not None:\n",
    "    #                 self[field.name] = v\n",
    "\n",
    "# d = Dataclass(\n",
    "#     a=1,\n",
    "#     b=1.0,\n",
    "#     c='one',\n",
    "# )\n",
    "\n",
    "# def foo(a=2, b=None, c=None):\n",
    "#     print(a, b, c)\n",
    "\n",
    "# foo(**d)\n"
   ]
  },
  {
   "cell_type": "code",
   "execution_count": 69,
   "metadata": {},
   "outputs": [
    {
     "name": "stdout",
     "output_type": "stream",
     "text": [
      "a\n",
      "b\n"
     ]
    }
   ],
   "source": [
    "# from collections import OrderedDict\n",
    "# from diffusers.utils import BaseOutput\n",
    "# from dataclasses import dataclass, fields\n",
    "\n",
    "\n",
    "# class BaseInput(OrderedDict):\n",
    "#     def __post_init__(self) -> None:\n",
    "#         class_fields = fields(self)\n",
    "\n",
    "#         # Safety and consistency checks\n",
    "#         if not len(class_fields):\n",
    "#             raise ValueError(f\"{self.__class__.__name__} has no fields.\")\n",
    "\n",
    "#         first_field = getattr(self, class_fields[0].name)\n",
    "#         other_fields_are_none = all(getattr(self, field.name) is None for field in class_fields[1:])\n",
    "\n",
    "#         if other_fields_are_none and isinstance(first_field, dict):\n",
    "#             for key, value in first_field.items():\n",
    "#                 self[key] = value\n",
    "#         else:\n",
    "#             for field in class_fields:\n",
    "#                 v = getattr(self, field.name)\n",
    "#                 if v is not None:\n",
    "#                     self[field.name] = v\n",
    "\n",
    "\n",
    "# @dataclass\n",
    "# class A(BaseInput):\n",
    "#     a: int = 1\n",
    "#     b: float = None\n",
    "    \n",
    "#     def __call__(self):\n",
    "#         class_fields = fields(self)\n",
    "#         for field in class_fields:\n",
    "#             print(field.name)\n",
    "\n",
    "\n",
    "# kwargs = {\"num\": 1, \"ass\": 2, \"a\": 1, \"b\": 2.0, \"c\": \"tree\"}\n",
    "# # a = A(**kwargs)\n",
    "\n",
    "# # def foo(a=2, b=1):\n",
    "# #     print(a, b)\n",
    "\n",
    "# # foo(**a)\n",
    "# # dict(A)\n",
    "# # A().keys() & kwargs.keys()\n",
    "# a = A()\n",
    "# a()"
   ]
  },
  {
   "cell_type": "code",
   "execution_count": 55,
   "metadata": {},
   "outputs": [
    {
     "ename": "TypeError",
     "evalue": "unsupported operand type(s) for &: 'dict' and 'dict'",
     "output_type": "error",
     "traceback": [
      "\u001b[0;31m---------------------------------------------------------------------------\u001b[0m",
      "\u001b[0;31mTypeError\u001b[0m                                 Traceback (most recent call last)",
      "Cell \u001b[0;32mIn[55], line 2\u001b[0m\n\u001b[1;32m      1\u001b[0m \u001b[38;5;66;03m# {\"a\": 1, \"b\": 2} | {\"a\": 2, \"b\": 3, \"c\": 6}\u001b[39;00m\n\u001b[0;32m----> 2\u001b[0m \u001b[43m{\u001b[49m\u001b[38;5;124;43m\"\u001b[39;49m\u001b[38;5;124;43ma\u001b[39;49m\u001b[38;5;124;43m\"\u001b[39;49m\u001b[43m:\u001b[49m\u001b[43m \u001b[49m\u001b[38;5;241;43m1\u001b[39;49m\u001b[43m,\u001b[49m\u001b[43m \u001b[49m\u001b[38;5;124;43m\"\u001b[39;49m\u001b[38;5;124;43mb\u001b[39;49m\u001b[38;5;124;43m\"\u001b[39;49m\u001b[43m:\u001b[49m\u001b[43m \u001b[49m\u001b[38;5;241;43m2\u001b[39;49m\u001b[43m}\u001b[49m\u001b[43m \u001b[49m\u001b[38;5;241;43m&\u001b[39;49m\u001b[43m \u001b[49m\u001b[43m{\u001b[49m\u001b[38;5;124;43m\"\u001b[39;49m\u001b[38;5;124;43ma\u001b[39;49m\u001b[38;5;124;43m\"\u001b[39;49m\u001b[43m:\u001b[49m\u001b[43m \u001b[49m\u001b[38;5;241;43m2\u001b[39;49m\u001b[43m}\u001b[49m\n",
      "\u001b[0;31mTypeError\u001b[0m: unsupported operand type(s) for &: 'dict' and 'dict'"
     ]
    }
   ],
   "source": [
    "{\"a\": 1, \"b\": 2} | {\"a\": 2, \"b\": 3, \"c\": 6}\n",
    "{\"a\": 1, \"b\": 2} & {\"a\": 2}"
   ]
  },
  {
   "cell_type": "code",
   "execution_count": null,
   "metadata": {},
   "outputs": [],
   "source": []
  }
 ],
 "metadata": {
  "kernelspec": {
   "display_name": ".venv",
   "language": "python",
   "name": "python3"
  },
  "language_info": {
   "codemirror_mode": {
    "name": "ipython",
    "version": 3
   },
   "file_extension": ".py",
   "mimetype": "text/x-python",
   "name": "python",
   "nbconvert_exporter": "python",
   "pygments_lexer": "ipython3",
   "version": "3.11.2"
  }
 },
 "nbformat": 4,
 "nbformat_minor": 2
}
